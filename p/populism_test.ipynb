{
 "cells": [
  {
   "cell_type": "markdown",
   "metadata": {},
   "source": [
    "This code generates a perfect foresight transition between two steady states. \n",
    "\n",
    "Dependencies:\n",
    "- predict.jl\n",
    "\n",
    "Output:\n",
    "- rt, the time series of prices"
   ]
  },
  {
   "cell_type": "code",
   "execution_count": 1,
   "metadata": {},
   "outputs": [
    {
     "data": {
      "text/plain": [
       "\"c:/Users/unnav/Dropbox/Education/OSU/Ongoing_Research/2nd Year Paper/political-polarization/d/liberalism_populism/\""
      ]
     },
     "execution_count": 1,
     "metadata": {},
     "output_type": "execute_result"
    }
   ],
   "source": [
    "#= using Pkg\n",
    "Pkg.add(\"IJulia\"); Pkg.add(\"MAT\"); Pkg.add(\"CSV\"); Pkg.add(\"Tables\"); =#\n",
    "\n",
    "using MAT, CSV, Tables\n",
    "\n",
    "# importing modules from the project\n",
    "include(\"../p/dependencies/predict_Mod.jl\")\n",
    "using .predict\n",
    "include(\"../p/dependencies/aiyagari_Mod.jl\")\n",
    "using .aiyagari\n",
    "include(\"../p/dependencies/egm_Mod.jl\")\n",
    "using .egm\n",
    "\n",
    "# Loading liberalist household data\n",
    "liberalism_populism_dir = \"c:/Users/unnav/Dropbox/Education/OSU/Ongoing_Research/2nd Year Paper/political-polarization/d/liberalism_populism/\"\n",
    "\n"
   ]
  },
  {
   "cell_type": "markdown",
   "metadata": {},
   "source": [
    "Importing the steady state values for the populist regime:"
   ]
  },
  {
   "cell_type": "code",
   "execution_count": 2,
   "metadata": {},
   "outputs": [
    {
     "data": {
      "text/plain": [
       "1×1 Matrix{Float64}:\n",
       " 1.16175179283141"
      ]
     },
     "execution_count": 2,
     "metadata": {},
     "output_type": "execute_result"
    }
   ],
   "source": [
    "\n",
    "cd(liberalism_populism_dir)\n",
    "cd(\"results_t0.0000_eta1.0000\")\n",
    "VP = CSV.File(\"V.csv\", header = false) |> Tables.matrix\n",
    "GP = CSV.File(\"G.csv\", header = false) |> Tables.matrix\n",
    "adistrP = CSV.File(\"adistr.csv\", header = false) |> Tables.matrix\n",
    "rP = CSV.File(\"r.csv\", header = false) |> Tables.matrix\t\n",
    "lP = CSV.File(\"l.csv\", header = false) |> Tables.matrix\n"
   ]
  },
  {
   "cell_type": "markdown",
   "metadata": {},
   "source": [
    "Now for the liberalist regime:"
   ]
  },
  {
   "cell_type": "code",
   "execution_count": 3,
   "metadata": {},
   "outputs": [],
   "source": [
    "cd(\"../results_t0.0000_eta1.1000\")\n",
    "VL = CSV.File(\"V.csv\", header = false) |> Tables.matrix\n",
    "GL = CSV.File(\"G.csv\", header = false) |> Tables.matrix\n",
    "adistrL = CSV.File(\"adistr.csv\", header = false) |> Tables.matrix\n",
    "rL = CSV.File(\"r.csv\", header = false) |> Tables.matrix\n",
    "lL = CSV.File(\"l.csv\", header = false) |> Tables.matrix\n",
    "\n",
    "cd(\"../../\")"
   ]
  },
  {
   "cell_type": "code",
   "execution_count": 7,
   "metadata": {},
   "outputs": [
    {
     "data": {
      "text/plain": [
       "Dict{String, Any} with 12 entries:\n",
       "  \"lamval\" => 0\n",
       "  \"tau\"    => 0\n",
       "  \"delta\"  => 0.06\n",
       "  \"sigma\"  => 1\n",
       "  \"phi\"    => 0\n",
       "  \"pil\"    => [0.160814 0.339186 … 0.00143604 3.67793e-5; 0.0685501 0.241553 … …\n",
       "  \"agrid\"  => [0.0 0.0187075 … 98.1452 100.0]\n",
       "  \"alpha\"  => 0.36\n",
       "  \"G\"      => 0\n",
       "  \"captax\" => [0.0, 0.0, 0.0, 0.0, 0.0, 0.0, 0.0]\n",
       "  \"beta\"   => 0.96\n",
       "  \"lgrid\"  => [0.253675 0.40073 … 2.49545 3.94206]"
      ]
     },
     "execution_count": 7,
     "metadata": {},
     "output_type": "execute_result"
    }
   ],
   "source": [
    "lt = fill(lL, 25)\n",
    "\n",
    "r0 = rP\n",
    "r1 = rL\n",
    "\n",
    "alpha = 0.36\n",
    "beta = 0.96\n",
    "sigma = 1\n",
    "delta = 0.06\n",
    "lgrid = matread(\"lgrid.mat\")[\"lgrid\"]\n",
    "agrid = matread(\"agrid.mat\")[\"agrid\"]\n",
    "pil = CSV.File(\"pil.csv\", header=false) |> Tables.matrix\n",
    "G = 0\n",
    "captax = fill(0.0, length(lgrid))\n",
    "lamval = 0;\n",
    "tau = 0;\n",
    "phi = 0;\n",
    "\n",
    "terms = Dict(\"alpha\" => alpha, \"beta\" => beta, \"sigma\" => sigma, \"delta\" => delta, \n",
    "\t\"lgrid\" => lgrid, \"agrid\" => agrid, \"pil\" => pil, \"G\" => G, \"captax\" => captax, \n",
    "\t\"lamval\" => lamval, \"tau\" => tau, \"phi\" => phi)"
   ]
  },
  {
   "cell_type": "markdown",
   "metadata": {},
   "source": [
    "Now to export this to the transition function so it can try to solve the transition"
   ]
  },
  {
   "cell_type": "code",
   "execution_count": 8,
   "metadata": {},
   "outputs": [
    {
     "name": "stdout",
     "output_type": "stream",
     "text": [
      "Begin EGM."
     ]
    },
    {
     "name": "stderr",
     "output_type": "stream",
     "text": [
      "WARNING: replacing module predict.\n"
     ]
    },
    {
     "name": "stdout",
     "output_type": "stream",
     "text": [
      "\n",
      "\n",
      "\tIteration 3: ||TV - V|| = 0.0\t||TG - G|| = 0.0\n",
      "\n",
      "\t\tIteration 25: ||Tm - m|| = 7.598631227162146e-7\tsum = 1.0000000000000038\n",
      "Begin EGM.\n",
      "\n",
      "\tIteration 3: ||TV - V|| = 0.0\t||TG - G|| = 0.0\n",
      "\n",
      "\t\tIteration 25: ||Tm - m|| = 7.417085633496649e-7\tsum = 1.0000000000000036\n",
      "_Iteration 1\n",
      "||K - K'|| = 0.0\n",
      "(25,)(25,)"
     ]
    },
    {
     "ename": "LoadError",
     "evalue": "DimensionMismatch: Both inputs should have the same number of columns",
     "output_type": "error",
     "traceback": [
      "DimensionMismatch: Both inputs should have the same number of columns",
      "",
      "Stacktrace:",
      "  [1] /(A::Matrix{Float64}, B::Matrix{Float64})",
      "    @ LinearAlgebra C:\\Users\\unnav\\AppData\\Local\\Programs\\Julia-1.9.3\\share\\julia\\stdlib\\v1.9\\LinearAlgebra\\src\\generic.jl:1146",
      "  [2] _broadcast_getindex_evalf",
      "    @ .\\broadcast.jl:683 [inlined]",
      "  [3] _broadcast_getindex",
      "    @ .\\broadcast.jl:656 [inlined]",
      "  [4] _getindex",
      "    @ .\\broadcast.jl:679 [inlined]",
      "  [5] _broadcast_getindex",
      "    @ .\\broadcast.jl:655 [inlined]",
      "  [6] _getindex",
      "    @ .\\broadcast.jl:680 [inlined]",
      "  [7] _getindex",
      "    @ .\\broadcast.jl:679 [inlined]",
      "  [8] _broadcast_getindex",
      "    @ .\\broadcast.jl:655 [inlined]",
      "  [9] getindex",
      "    @ .\\broadcast.jl:610 [inlined]",
      " [10] copy(bc::Base.Broadcast.Broadcasted{Base.Broadcast.DefaultArrayStyle{1}, Tuple{Base.OneTo{Int64}}, typeof(*), Tuple{Float64, Base.Broadcast.Broadcasted{Base.Broadcast.DefaultArrayStyle{1}, Nothing, typeof(^), Tuple{Base.Broadcast.Broadcasted{Base.Broadcast.DefaultArrayStyle{1}, Nothing, typeof(/), Tuple{Vector{Matrix{Float64}}, Vector{Matrix{Float64}}}}, Float64}}}})",
      "    @ Base.Broadcast .\\broadcast.jl:912",
      " [11] materialize(bc::Base.Broadcast.Broadcasted{Base.Broadcast.DefaultArrayStyle{1}, Nothing, typeof(*), Tuple{Float64, Base.Broadcast.Broadcasted{Base.Broadcast.DefaultArrayStyle{1}, Nothing, typeof(^), Tuple{Base.Broadcast.Broadcasted{Base.Broadcast.DefaultArrayStyle{1}, Nothing, typeof(/), Tuple{Vector{Matrix{Float64}}, Vector{Matrix{Float64}}}}, Float64}}}})",
      "    @ Base.Broadcast .\\broadcast.jl:873",
      " [12] transition(r0::Matrix{Float64}, r1::Matrix{Float64}, lt::Vector{Matrix{Float64}}, terms::Dict{String, Any}, lambda::Float64, dTol::Float64)",
      "    @ Main.predict c:\\Users\\unnav\\Dropbox\\Education\\OSU\\Ongoing_Research\\2nd Year Paper\\political-polarization\\p\\dependencies\\predict_Mod.jl:117",
      " [13] top-level scope",
      "    @ In[8]:8"
     ]
    }
   ],
   "source": [
    "lambda = 0.5\n",
    "dTol = 1e-4\n",
    "\n",
    "#putting this in so I don't have to keep reloading from the top\n",
    "include(\"../p/dependencies/predict_Mod.jl\")\n",
    "using .predict\n",
    "\n",
    "rt = predict.transition(r0, r1, lt, terms, dTol, lambda)\n"
   ]
  },
  {
   "cell_type": "code",
   "execution_count": null,
   "metadata": {},
   "outputs": [],
   "source": []
  }
 ],
 "metadata": {
  "kernelspec": {
   "display_name": "Julia 1.9.3",
   "language": "julia",
   "name": "julia-1.9"
  },
  "language_info": {
   "file_extension": ".jl",
   "mimetype": "application/julia",
   "name": "julia",
   "version": "1.9.3"
  }
 },
 "nbformat": 4,
 "nbformat_minor": 2
}
